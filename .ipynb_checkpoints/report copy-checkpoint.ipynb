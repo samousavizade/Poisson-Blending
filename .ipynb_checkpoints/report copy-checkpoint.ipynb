{
 "cells": [
  {
   "cell_type": "markdown",
   "metadata": {},
   "source": [
    "## Project Definition\n",
    "\n",
    "In this project, with the help of **Solving Poisson Equation With Dirichlet Boundary Conditions By Numerical Solutions**, part of **Source** image\n",
    "is blended into the **Target** image and the result of blending is given in the output.\n",
    "\n",
    "**Poisson Equation With Dirichlet Boundary Conditions** is defined as follows:\n",
    "\n",
    "<img src=\"figures/PoissonEquation.png\" width=\"200\" align=\"center\"/>\n",
    "\n",
    "\n",
    "\n",
    "---\n",
    "## Code Pipeline\n",
    "\n",
    "The `PolygonMaker` class creates a polygon using the points clicked by the user and then\n",
    "with the help of the `PolygonMover` class, the polygon can be moved on the target image. \n",
    "\n",
    "After this steps, the `PyramidBlender` class, which implements the **Feathering with Laplacian Pyramid** Algorithme, is created based on a user-created **Mask**.\n",
    "\n",
    "The **Mask** is a binary 2-dimensional array with source image size that is created as follows: \n",
    "($R_{xy}$: Value of pixel in (x,y) coordinates and $S$: Set of points coordinates inside the user-created polygon.)\n",
    "\n",
    "\\begin{align}\n",
    "R_{xy}=\n",
    "\\begin{cases}\n",
    "1& (x,y) \\in S\\\\\n",
    "0& (x,y) \\notin S\\\\\n",
    "\\end{cases}\n",
    "\\end{align}\n",
    "\n",
    "---\n",
    "## Feathering with Laplacian Pyramid Algorithme\n",
    "\n",
    "The steps of this algorithme are as follows:\n",
    "\n",
    "1. Build Laplacian Pyramid, (with the help of Gaussian Pyramid) for source and target image.\n",
    "2. Build Gaussian Pyramid of **Mask** \n",
    "3. Blend each level of pyramid using mask from the same level:\n",
    "   $$L_{12}^{i} = L_1^i . R^i + L_2^i . (1 - R^i)$$\n",
    "\n",
    "   where $L_{n}^i$: Level i of image n Laplacian Pyramid and $R^i$: Level i of Mask Gaussian Pyramid.\n",
    "4. Collapse the final pyramid to get the final blended result.\n",
    "\n",
    "### Pyramids\n",
    "\n",
    "| Gaussian Pyramid Build Instruction | Laplacian Pyramid Build Instruction |\n",
    "| --- | --- |\n",
    "| <img src=\"GaussianPyramid.jpg\" alt=\"GP\" width=\"512\" height=\"512\"> | <img src=\"LaplacianPyramidBuild.png\" alt=\"GP\" width=\"512\" height=\"512\"> |\n",
    "\n",
    "---\n",
    "## Results\n",
    "\n",
    "\n",
    "| Source | Target | Mask | Direct Merge Result | Pyramid Blending Result\n",
    "| ------ | ------ | ------ | ----- | -------- |\n",
    "| <img src=\"./sources/source1.jpg\" alt=\"\" width=\"150\"/> | <img src=\"./targets/target1.jpg\" alt=\"\" width=\"150\"/> | <img src=\"./masks/mask1.jpg\" alt=\"\" width=\"150\"/> | <img src=\"./results_direct_merge/res1.jpg\" alt=\"\" width=\"150\"/> | <img src=\"./results_blended/res1.jpg\" alt=\"\" width=\"150\"/> |\n",
    "| <img src=\"./sources/source2.jpg\" alt=\"\" width=\"150\"/> | <img src=\"./targets/target2.jpg\" alt=\"\" width=\"150\"/> | <img src=\"./masks/mask2.jpg\" alt=\"\" width=\"150\"/> | <img src=\"./results_direct_merge/res2.jpg\" alt=\"\" width=\"150\"/> | <img src=\"./results_blended/res2.jpg\" alt=\"\" width=\"150\"/> |\n",
    "| <img src=\"./sources/source3.jpg\" alt=\"\" width=\"150\"/> | <img src=\"./targets/target3.jpg\" alt=\"\" width=\"150\"/> | <img src=\"./masks/mask3.jpg\" alt=\"\" width=\"150\"/> | <img src=\"./results_direct_merge/res3.jpg\" alt=\"\" width=\"150\"/> | <img src=\"./results_blended/res3.jpg\" alt=\"\" width=\"150\"/> |"
   ]
  },
  {
   "cell_type": "code",
   "execution_count": null,
   "metadata": {},
   "outputs": [],
   "source": []
  }
 ],
 "metadata": {
  "interpreter": {
   "hash": "a0ebfc267f4a7b44e6360165375d376b7715406d7f7a992e90ad755341a1997f"
  },
  "kernelspec": {
   "display_name": "Python 3",
   "language": "python",
   "name": "python3"
  },
  "language_info": {
   "codemirror_mode": {
    "name": "ipython",
    "version": 3
   },
   "file_extension": ".py",
   "mimetype": "text/x-python",
   "name": "python",
   "nbconvert_exporter": "python",
   "pygments_lexer": "ipython3",
   "version": "3.8.8"
  }
 },
 "nbformat": 4,
 "nbformat_minor": 2
}
