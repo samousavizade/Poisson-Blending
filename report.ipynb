{
 "cells": [
  {
   "cell_type": "code",
   "execution_count": 11,
   "metadata": {},
   "outputs": [
    {
     "data": {
      "text/html": [
       "<style>\n",
       "    * {\n",
       "        margin-bottom: 1cm;\n",
       "        direction: rtl;\n",
       "    }\n",
       " </style>"
      ],
      "text/plain": [
       "<IPython.core.display.HTML object>"
      ]
     },
     "execution_count": 11,
     "metadata": {},
     "output_type": "execute_result"
    }
   ],
   "source": [
    "from IPython.core.display import HTML\n",
    "def css_styling():\n",
    "    styles = open(\"style.css\", \"r\").read()\n",
    "    return HTML(styles)\n",
    "\n",
    "css_styling()"
   ]
  },
  {
   "cell_type": "markdown",
   "metadata": {},
   "source": [
    "## شرح پروژه\n",
    "\n",
    "در این پروژه با استفاده از روش پواسون برای ادغام دو تصویر، قسمتی از یک تصویر را در تصویر دیگر ادغام میکنیم. دو تصویر یکی به عنوان تصویر مرجع \n",
    "(Source)\n",
    "و دیگری به عنوان تصویر هدف \n",
    "(Target)\n",
    "انتخاب میشود و حاصل ادعام بخش مشخص شده از تصویر اول روی بخش انتخاب شده از تصویر دوم در خروجی\n",
    "(res)\n",
    "تولید میشود."
   ]
  },
  {
   "cell_type": "markdown",
   "metadata": {},
   "source": [
    "## توضیحات\n",
    "\n",
    "کلاس \n",
    "`PolygonMaker` \n",
    "با استفاده از نقاط کلیک شده یک چندضلعی میسازد و به کمک کلاس \n",
    "`PolygonMover`\n",
    "میتوان چندضلعی را روی تصویر\n",
    "target\n",
    "حرکت داد. بعد از این مرحله کلاس\n",
    "`PoissonBlender`\n",
    "با استفاده از\n",
    "**روش پواسون با ناحیه مرزی دیریکله**\n",
    "معادله را حل میکند و تصویر \n",
    "Blend\n",
    "شده خروجی داده میشود."
   ]
  },
  {
   "cell_type": "markdown",
   "metadata": {},
   "source": [
    "## نتایج\n",
    "\n",
    "| source | target | result |\n",
    "| ------ | ------ | ------ |\n",
    "| a | b | c |\n",
    "<!-- | ![](sources/source1.jpg) | ![](targets/target1.jpg) | ![](results/res1.jpg) | -->"
   ]
  }
 ],
 "metadata": {
  "interpreter": {
   "hash": "a0ebfc267f4a7b44e6360165375d376b7715406d7f7a992e90ad755341a1997f"
  },
  "kernelspec": {
   "display_name": "Python 3.8.2 ('MyEnv')",
   "language": "python",
   "name": "python3"
  },
  "language_info": {
   "codemirror_mode": {
    "name": "ipython",
    "version": 3
   },
   "file_extension": ".py",
   "mimetype": "text/x-python",
   "name": "python",
   "nbconvert_exporter": "python",
   "pygments_lexer": "ipython3",
   "version": "3.8.2"
  },
  "orig_nbformat": 4
 },
 "nbformat": 4,
 "nbformat_minor": 2
}
