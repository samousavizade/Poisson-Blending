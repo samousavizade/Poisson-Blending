{
 "cells": [
  {
   "cell_type": "markdown",
   "metadata": {},
   "source": [
    "## Project Definition\n",
    "\n",
    "In this project, with the help of **Solving Poisson Equation With Dirichlet Boundary Conditions By Numerical Solutions**, part of **Source** image\n",
    "is blended into the **Target** image and the result of blending is given in the output.\n",
    "\n",
    "Steps to solve **Poisson Equation With Dirichlet Boundary Conditions** numerically are as follows: \n",
    "\n",
    "### 1. **Poisson Equation With Dirichlet Boundary Conditions** is defined as follows:\n",
    "\n",
    "<img src=\"figures/PoissonEquation.png\" width=\"900\" align=\"center\"/>\n",
    "\n",
    "### 2. **Laplacian Approximation** Based On Taylor Expansion\n",
    "\n",
    "<img src=\"figures/TaylorApprox.png\" width=\"900\" align=\"center\"/>\n",
    "\n",
    "### 3. Problem Statement as a Matrix Equation\n",
    "\n",
    "<img src=\"figures/Formula.png\" width=\"900\" align=\"center\"/>\n",
    "\n",
    "---\n",
    "## Code Pipeline\n",
    "\n",
    "The `PolygonMaker` class creates a polygon using the points clicked by the user and then\n",
    "with the help of the `PolygonMover` class, the polygon can be moved on the target image. \n",
    "\n",
    "After this steps, the `PoissonBlender` class, which implements the **Poisson Equation With Dirichlet Boundary Conditions** By Numerical Algorithme, is created.\n",
    "\n",
    "---\n",
    "## Results\n",
    "\n",
    "| Source | Target | Pyramid Blending Result\n",
    "| ------ | ------ | ----- |\n",
    "| <img src=\"./sources/source1.jpg\" alt=\"\" width=\"250\"/> | <img src=\"./targets/target1.jpg\" alt=\"\" width=\"250\"/> |<img src=\"./results/res1.jpg\" alt=\"\" width=\"250\"/> |\n",
    "| <img src=\"./sources/source2.jpg\" alt=\"\" width=\"250\"/> | <img src=\"./targets/target1.jpg\" alt=\"\" width=\"250\"/> |<img src=\"./results/res2.jpg\" alt=\"\" width=\"250\"/> |\n",
    "| <img src=\"./sources/source3.jpg\" alt=\"\" width=\"250\"/> | <img src=\"./targets/target1.jpg\" alt=\"\" width=\"250\"/> |<img src=\"./results/res3.jpg\" alt=\"\" width=\"250\"/> |\n",
    "| <img src=\"./sources/source4.jpg\" alt=\"\" width=\"250\"/> | <img src=\"./targets/target1.jpg\" alt=\"\" width=\"250\"/> |<img src=\"./results/res4.jpg\" alt=\"\" width=\"250\"/> |\n",
    "| <img src=\"./sources/source5.jpg\" alt=\"\" width=\"250\"/> | <img src=\"./targets/target1.jpg\" alt=\"\" width=\"250\"/> |<img src=\"./results/res5.jpg\" alt=\"\" width=\"250\"/> |\n",
    "| <img src=\"./sources/source6.jpg\" alt=\"\" width=\"250\"/> | <img src=\"./targets/target1.jpg\" alt=\"\" width=\"250\"/> |<img src=\"./results/res6.jpg\" alt=\"\" width=\"250\"/> |\n",
    "| <img src=\"./sources/source7.jpg\" alt=\"\" width=\"250\"/> | <img src=\"./targets/target1.jpg\" alt=\"\" width=\"250\"/> |<img src=\"./results/res7.jpg\" alt=\"\" width=\"250\"/> |\n",
    "| <img src=\"./sources/source8.jpg\" alt=\"\" width=\"250\"/> | <img src=\"./targets/target1.jpg\" alt=\"\" width=\"250\"/> |<img src=\"./results/res8.jpg\" alt=\"\" width=\"250\"/> |"
   ]
  }
 ],
 "metadata": {
  "interpreter": {
   "hash": "a0ebfc267f4a7b44e6360165375d376b7715406d7f7a992e90ad755341a1997f"
  },
  "kernelspec": {
   "display_name": "Python 3 (ipykernel)",
   "language": "python",
   "name": "python3"
  },
  "language_info": {
   "codemirror_mode": {
    "name": "ipython",
    "version": 3
   },
   "file_extension": ".py",
   "mimetype": "text/x-python",
   "name": "python",
   "nbconvert_exporter": "python",
   "pygments_lexer": "ipython3",
   "version": "3.8.2"
  }
 },
 "nbformat": 4,
 "nbformat_minor": 2
}
